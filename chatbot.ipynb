{
 "cells": [
  {
   "cell_type": "markdown",
   "metadata": {},
   "source": [
    "# The Chatbot"
   ]
  },
  {
   "cell_type": "markdown",
   "metadata": {},
   "source": [
    "Functionalities\n",
    "- Uses Postgresql as the source for retrival\n",
    "- Keeps a session id for the user\n",
    "- Keeps track of the ChatHistory"
   ]
  },
  {
   "cell_type": "markdown",
   "metadata": {},
   "source": [
    "## Setup"
   ]
  },
  {
   "cell_type": "code",
   "execution_count": 1,
   "metadata": {},
   "outputs": [
    {
     "name": "stdout",
     "output_type": "stream",
     "text": [
      "WARNING:tensorflow:From d:\\Virtual Envs\\LangChain_Basics\\venv\\lib\\site-packages\\tf_keras\\src\\losses.py:2976: The name tf.losses.sparse_softmax_cross_entropy is deprecated. Please use tf.compat.v1.losses.sparse_softmax_cross_entropy instead.\n",
      "\n"
     ]
    },
    {
     "name": "stderr",
     "output_type": "stream",
     "text": [
      "USER_AGENT environment variable not set, consider setting it to identify your requests.\n"
     ]
    }
   ],
   "source": [
    "import os\n",
    "from dotenv import load_dotenv\n",
    "load_dotenv()\n",
    "from langchain_groq import ChatGroq\n",
    "\n",
    "groq_api_key=os.getenv(\"GROQ_API_KEY\")\n",
    "\n",
    "llm=ChatGroq(groq_api_key=groq_api_key,model_name=\"Llama3-8b-8192\")\n",
    "llm\n",
    "\n",
    "os.environ['HF_TOKEN']=os.getenv(\"HF_TOKEN\")\n",
    "from langchain_huggingface import HuggingFaceEmbeddings\n",
    "embeddings=HuggingFaceEmbeddings(model_name=\"all-MiniLM-L6-v2\")\n",
    "\n",
    "# Basic Libraries\n",
    "from langchain_chroma import Chroma\n",
    "from langchain_community.document_loaders import WebBaseLoader\n",
    "from langchain_core.prompts import ChatPromptTemplate\n",
    "from langchain_text_splitters import RecursiveCharacterTextSplitter\n",
    "from langchain.chains import create_retrieval_chain\n",
    "from langchain.chains.combine_documents import create_stuff_documents_chain"
   ]
  },
  {
   "cell_type": "code",
   "execution_count": 3,
   "metadata": {},
   "outputs": [
    {
     "name": "stdout",
     "output_type": "stream",
     "text": [
      "✅ Questions successfully stored in ChromaDB!\n"
     ]
    }
   ],
   "source": [
    "## Connect to the PostgreSQL Database\n",
    "# Synchronous\n",
    "import psycopg2\n",
    "\n",
    "# Connect to PostgreSQL\n",
    "conn = psycopg2.connect(\n",
    "    dbname=\"QuestionBank\",\n",
    "    user=\"postgres\",\n",
    "    password=\"postgresql\",\n",
    "    host=\"localhost\",\n",
    "    port=\"5432\"\n",
    ")\n",
    "\n",
    "# Create a cursor object\n",
    "cursor = conn.cursor()\n",
    "# Fetch all the rows\n",
    "cursor.execute(\"SELECT Tag, Question FROM QuestionBank;\")\n",
    "rows = cursor.fetchall()\n",
    "\n",
    "\n",
    "# Initialize Chroma client\n",
    "from langchain_chroma import Chroma\n",
    "from langchain_chroma import Chroma as LCChroma\n",
    "from langchain.schema import Document\n",
    "\n",
    "chroma_db_path = \"./chroma_db\"\n",
    "# Create ChromaDB Collection\n",
    "vectorstore = LCChroma(persist_directory=chroma_db_path, embedding_function=embeddings)\n",
    "# Convert each row into a LangChain Document and store in ChromaDB\n",
    "docs = [Document(page_content=row[1], metadata={\"id\": row[0], \"emotion\": row[0]}) for row in rows]\n",
    "\n",
    "# Store in ChromaDB\n",
    "vectorstore.add_documents(docs)\n",
    "\n",
    "print(\"✅ Questions successfully stored in ChromaDB!\")\n",
    "\n",
    "# Close cursor and connection\n",
    "conn.close()"
   ]
  },
  {
   "cell_type": "code",
   "execution_count": 4,
   "metadata": {},
   "outputs": [
    {
     "data": {
      "text/plain": [
       "[Document(id='69ea1559-9924-4a45-b89a-c0c947f105c4', metadata={'emotion': 'Anxious', 'id': 'Anxious'}, page_content='Do you often feel worried or on edge without a clear reason?\\tHave you experienced physical symptoms like rapid heartbeat or difficulty breathing?'),\n",
       " Document(id='ce2db161-be80-4b20-b2f2-1ac417c775e5', metadata={'emotion': 'Stressed', 'id': 'Stressed'}, page_content='What are the main sources of stress in your life right now?\\tHow do you typically cope when feeling overwhelmed?'),\n",
       " Document(id='19ca073f-2191-4496-ae15-5941eb4cae31', metadata={'emotion': 'Sad', 'id': 'Sad'}, page_content='What events or situations have been making you feel down?\\tHave you noticed changes in your sleep or appetite patterns?'),\n",
       " Document(id='b3718fd5-287f-4d92-9a98-9bb94187757e', metadata={'emotion': 'Burnout', 'id': 'Burnout'}, page_content='Do you feel emotionally and physically exhausted at the end of each day?\\tHave you become more cynical or detached from your work?')]"
      ]
     },
     "execution_count": 4,
     "metadata": {},
     "output_type": "execute_result"
    }
   ],
   "source": [
    "vectorstore.similarity_search(\"Anxious\")"
   ]
  },
  {
   "cell_type": "code",
   "execution_count": 5,
   "metadata": {},
   "outputs": [
    {
     "data": {
      "text/plain": [
       "VectorStoreRetriever(tags=['Chroma', 'HuggingFaceEmbeddings'], vectorstore=<langchain_chroma.vectorstores.Chroma object at 0x00000120573DC6D0>, search_kwargs={})"
      ]
     },
     "execution_count": 5,
     "metadata": {},
     "output_type": "execute_result"
    }
   ],
   "source": [
    "# Convert the VectorStore to a retriever\n",
    "retriever = vectorstore.as_retriever()\n",
    "retriever"
   ]
  },
  {
   "cell_type": "code",
   "execution_count": 21,
   "metadata": {},
   "outputs": [
    {
     "name": "stdout",
     "output_type": "stream",
     "text": [
      "('Depressed', 'Have you been feeling hopeless or helpless lately?\\tDo you find yourself losing interest in activities you used to enjoy?')\n",
      "('Sad', 'What events or situations have been making you feel down?\\tHave you noticed changes in your sleep or appetite patterns?')\n",
      "('Anxious', 'Do you often feel worried or on edge without a clear reason?\\tHave you experienced physical symptoms like rapid heartbeat or difficulty breathing?')\n",
      "('Burnout', 'Do you feel emotionally and physically exhausted at the end of each day?\\tHave you become more cynical or detached from your work?')\n",
      "('Stressed', 'What are the main sources of stress in your life right now?\\tHow do you typically cope when feeling overwhelmed?')\n"
     ]
    }
   ],
   "source": [
    "for row in rows:\n",
    "    print(row)"
   ]
  },
  {
   "cell_type": "markdown",
   "metadata": {},
   "source": [
    "# Prompt Template"
   ]
  },
  {
   "cell_type": "code",
   "execution_count": 6,
   "metadata": {},
   "outputs": [],
   "source": [
    "## Prompt Template\n",
    "system_prompt = (\n",
    "    \"You are a very friendly and helpful assistant whose task is to talk to the employee\"\n",
    "    \"About their emotions, mostly sad and try to understand them.\"\n",
    "    \"Use the q_context provided as the context to frame the questions\"\n",
    "    \"and keep the chat history in mind while talking.\"\n",
    "    \"Do not talk for more than 3 prompts.\"\n",
    "    \"End the conversation with a sweet note and give suggestions\"\n",
    "    \"\"\n",
    "    \"\\n\\n\"\n",
    "    \"{context}\"\n",
    ")\n",
    "\n",
    "prompt = ChatPromptTemplate.from_messages(\n",
    "    [\n",
    "        (\"system\", system_prompt),\n",
    "        (\"human\", \"{input}\"),\n",
    "    ]\n",
    ")"
   ]
  },
  {
   "cell_type": "markdown",
   "metadata": {},
   "source": [
    "# Add Chat History"
   ]
  },
  {
   "cell_type": "code",
   "execution_count": 7,
   "metadata": {},
   "outputs": [],
   "source": [
    "from langchain.chains import create_history_aware_retriever\n",
    "from langchain_core.prompts import MessagesPlaceholder\n",
    "\n",
    "contextualize_q_system_prompt = (\n",
    "    \"Given a chat history and the latest user question\"\n",
    "    \"which might reference context in the chat history, \"\n",
    "    \"formulate a standalone question which can be understood \"\n",
    "    \"without the chat history. Do NOT answer the question, \"\n",
    "    \"just reformulate it if needed and otherwise return it as is.\"\n",
    ")\n",
    "contextualize_q_prompt = ChatPromptTemplate.from_messages(\n",
    "    [\n",
    "        (\"system\", contextualize_q_system_prompt),\n",
    "        MessagesPlaceholder(\"chat_history\"),\n",
    "        (\"human\", \"{input}\"),\n",
    "    ]\n",
    " )"
   ]
  },
  {
   "cell_type": "code",
   "execution_count": 12,
   "metadata": {},
   "outputs": [
    {
     "data": {
      "text/plain": [
       "RunnableBinding(bound=RunnableBranch(branches=[(RunnableLambda(lambda x: not x.get('chat_history', False)), RunnableLambda(lambda x: x['input'])\n",
       "| VectorStoreRetriever(tags=['Chroma', 'HuggingFaceEmbeddings'], vectorstore=<langchain_chroma.vectorstores.Chroma object at 0x00000120573DC6D0>, search_kwargs={}))], default=ChatPromptTemplate(input_variables=['chat_history', 'input'], input_types={'chat_history': list[typing.Annotated[typing.Union[typing.Annotated[langchain_core.messages.ai.AIMessage, Tag(tag='ai')], typing.Annotated[langchain_core.messages.human.HumanMessage, Tag(tag='human')], typing.Annotated[langchain_core.messages.chat.ChatMessage, Tag(tag='chat')], typing.Annotated[langchain_core.messages.system.SystemMessage, Tag(tag='system')], typing.Annotated[langchain_core.messages.function.FunctionMessage, Tag(tag='function')], typing.Annotated[langchain_core.messages.tool.ToolMessage, Tag(tag='tool')], typing.Annotated[langchain_core.messages.ai.AIMessageChunk, Tag(tag='AIMessageChunk')], typing.Annotated[langchain_core.messages.human.HumanMessageChunk, Tag(tag='HumanMessageChunk')], typing.Annotated[langchain_core.messages.chat.ChatMessageChunk, Tag(tag='ChatMessageChunk')], typing.Annotated[langchain_core.messages.system.SystemMessageChunk, Tag(tag='SystemMessageChunk')], typing.Annotated[langchain_core.messages.function.FunctionMessageChunk, Tag(tag='FunctionMessageChunk')], typing.Annotated[langchain_core.messages.tool.ToolMessageChunk, Tag(tag='ToolMessageChunk')]], FieldInfo(annotation=NoneType, required=True, discriminator=Discriminator(discriminator=<function _get_type at 0x000001207CF2E200>, custom_error_type=None, custom_error_message=None, custom_error_context=None))]]}, partial_variables={}, messages=[SystemMessagePromptTemplate(prompt=PromptTemplate(input_variables=[], input_types={}, partial_variables={}, template='Given a chat history and the latest user questionwhich might reference context in the chat history, formulate a standalone question which can be understood without the chat history. Do NOT answer the question, just reformulate it if needed and otherwise return it as is.'), additional_kwargs={}), MessagesPlaceholder(variable_name='chat_history'), HumanMessagePromptTemplate(prompt=PromptTemplate(input_variables=['input'], input_types={}, partial_variables={}, template='{input}'), additional_kwargs={})])\n",
       "| ChatGroq(client=<groq.resources.chat.completions.Completions object at 0x000001207E9319C0>, async_client=<groq.resources.chat.completions.AsyncCompletions object at 0x000001207E932D70>, model_name='Llama3-8b-8192', model_kwargs={}, groq_api_key=SecretStr('**********'))\n",
       "| StrOutputParser()\n",
       "| VectorStoreRetriever(tags=['Chroma', 'HuggingFaceEmbeddings'], vectorstore=<langchain_chroma.vectorstores.Chroma object at 0x00000120573DC6D0>, search_kwargs={})), kwargs={}, config={'run_name': 'chat_retriever_chain'}, config_factories=[])"
      ]
     },
     "execution_count": 12,
     "metadata": {},
     "output_type": "execute_result"
    }
   ],
   "source": [
    "# Using the user's input and chat_history\n",
    "# We will retrieve relevant questions from out database\n",
    "# Feed them to a llm and come up with a single questions\n",
    "# Combining all of them\n",
    "history_aware_retriever = create_history_aware_retriever(llm,retriever,contextualize_q_prompt)\n",
    "history_aware_retriever"
   ]
  },
  {
   "cell_type": "code",
   "execution_count": 35,
   "metadata": {},
   "outputs": [],
   "source": [
    "# Create a prompt for the qa chain that takes in user_input, chat_history and the context to send it to the llm finally\n",
    "system_prompt = (\n",
    "    \"You are a very friendly and helpful assistant whose task is to talk to the employee\"\n",
    "    \"About their emotions, mostly sad and try to understand them.\"\n",
    "    \"Use the q_context provided as the context to frame the questions\"\n",
    "    \"and keep the chat history in mind while talking.\"\n",
    "    \"Keep your initial answers short\"\n",
    "    \"Do not talk for more than 3 prompts.\"\n",
    "    \"End the conversation with a sweet note and give suggestions\"\n",
    "    \"\"\n",
    "    \"\\n\\n\"\n",
    "    \"{context}\"\n",
    ")\n",
    "\n",
    "qa_prompt = ChatPromptTemplate.from_messages(\n",
    "[\n",
    "    (\"system\", system_prompt),\n",
    "    MessagesPlaceholder(\"chat_history\"),\n",
    "    (\"human\", \"{input}\")\n",
    "]\n",
    ")\n",
    "# Create stuff doc chain\n",
    "question_answer_chain = create_stuff_documents_chain(llm,qa_prompt)\n",
    "# Goal of Rag_chain -> Takes in the user input and chat history, uses them to retrieve the relevant docs to reformulate the query\n",
    "# The new query is forwarded to the question_answer_chain along with the user inputs \n",
    "rag_chain = create_retrieval_chain(history_aware_retriever, question_answer_chain)"
   ]
  },
  {
   "cell_type": "code",
   "execution_count": null,
   "metadata": {},
   "outputs": [
    {
     "data": {
      "text/plain": [
       "{'input': 'Hey, I am Anxious and Depressed nowadays',\n",
       " 'chat_history': [],\n",
       " 'context': [Document(id='ce2db161-be80-4b20-b2f2-1ac417c775e5', metadata={'emotion': 'Stressed', 'id': 'Stressed'}, page_content='What are the main sources of stress in your life right now?\\tHow do you typically cope when feeling overwhelmed?'),\n",
       "  Document(id='71b3c888-8640-44e8-a8b2-d366529d1865', metadata={'emotion': 'Depressed', 'id': 'Depressed'}, page_content='Have you been feeling hopeless or helpless lately?\\tDo you find yourself losing interest in activities you used to enjoy?'),\n",
       "  Document(id='19ca073f-2191-4496-ae15-5941eb4cae31', metadata={'emotion': 'Sad', 'id': 'Sad'}, page_content='What events or situations have been making you feel down?\\tHave you noticed changes in your sleep or appetite patterns?'),\n",
       "  Document(id='b3718fd5-287f-4d92-9a98-9bb94187757e', metadata={'emotion': 'Burnout', 'id': 'Burnout'}, page_content='Do you feel emotionally and physically exhausted at the end of each day?\\tHave you become more cynical or detached from your work?')],\n",
       " 'answer': \"I'm so sorry to hear that you're feeling anxious and depressed. Can you tell me what's been on your mind lately that's causing you to feel this way? Is there something specific that's been bothering you or weighing you down?\"}"
      ]
     },
     "execution_count": 36,
     "metadata": {},
     "output_type": "execute_result"
    }
   ],
   "source": [
    "from langchain_core.messages import HumanMessage, AIMessage\n",
    "chat_history = []\n",
    "rag_chain.invoke({\"input\":\"Hey, I am Anxious and Depressed nowadays\", \"chat_history\":chat_history})"
   ]
  },
  {
   "cell_type": "code",
   "execution_count": null,
   "metadata": {},
   "outputs": [],
   "source": []
  },
  {
   "cell_type": "markdown",
   "metadata": {},
   "source": [
    "## Implementing Session IDs"
   ]
  },
  {
   "cell_type": "code",
   "execution_count": 37,
   "metadata": {},
   "outputs": [],
   "source": [
    "from langchain_community.chat_message_histories import ChatMessageHistory\n",
    "from langchain_core.chat_history import BaseChatMessageHistory\n",
    "from langchain_core.runnables import RunnableWithMessageHistory\n",
    "\n",
    "store = {}\n",
    "\n",
    "def get_session_history(session_id : str) -> BaseChatMessageHistory:\n",
    "    if session_id not in store:\n",
    "        store[session_id] = ChatMessageHistory()\n",
    "    return store[session_id]\n",
    "\n",
    "conversational_rag_chain = RunnableWithMessageHistory(\n",
    "    rag_chain,\n",
    "    get_session_history,\n",
    "    input_messages_key = \"input\",\n",
    "    history_messages_key = \"chat_history\",\n",
    "    output_messages_key = \"answer\"  \n",
    ")"
   ]
  },
  {
   "cell_type": "code",
   "execution_count": 38,
   "metadata": {},
   "outputs": [
    {
     "data": {
      "text/plain": [
       "{'input': 'Hey, I am Manan. I am a bit depressed and Anxious!',\n",
       " 'chat_history': [],\n",
       " 'context': [Document(id='ce2db161-be80-4b20-b2f2-1ac417c775e5', metadata={'emotion': 'Stressed', 'id': 'Stressed'}, page_content='What are the main sources of stress in your life right now?\\tHow do you typically cope when feeling overwhelmed?'),\n",
       "  Document(id='71b3c888-8640-44e8-a8b2-d366529d1865', metadata={'emotion': 'Depressed', 'id': 'Depressed'}, page_content='Have you been feeling hopeless or helpless lately?\\tDo you find yourself losing interest in activities you used to enjoy?'),\n",
       "  Document(id='19ca073f-2191-4496-ae15-5941eb4cae31', metadata={'emotion': 'Sad', 'id': 'Sad'}, page_content='What events or situations have been making you feel down?\\tHave you noticed changes in your sleep or appetite patterns?'),\n",
       "  Document(id='b3718fd5-287f-4d92-9a98-9bb94187757e', metadata={'emotion': 'Burnout', 'id': 'Burnout'}, page_content='Do you feel emotionally and physically exhausted at the end of each day?\\tHave you become more cynical or detached from your work?')],\n",
       " 'answer': \"Hi Manan, I'm so glad you're reaching out! It takes a lot of courage to share that you're struggling with depression and anxiety. I'm here to listen and support you.\\n\\nCan you tell me more about what's been going on? What are the main sources of stress in your life right now?\"}"
      ]
     },
     "execution_count": 38,
     "metadata": {},
     "output_type": "execute_result"
    }
   ],
   "source": [
    "response1 = conversational_rag_chain.invoke({\"input\":\"Hey, I am Manan. I am a bit depressed and Anxious!\"},\n",
    "                                config = {\"configurable\":{\"session_id\":\"Manan\"}})\n",
    "response1"
   ]
  },
  {
   "cell_type": "code",
   "execution_count": 39,
   "metadata": {},
   "outputs": [
    {
     "data": {
      "text/plain": [
       "{'input': 'I have a lot work and I feel Overloaded',\n",
       " 'chat_history': [HumanMessage(content='Hey, I am Manan. I am a bit depressed and Anxious!', additional_kwargs={}, response_metadata={}),\n",
       "  AIMessage(content=\"Hi Manan, I'm so glad you're reaching out! It takes a lot of courage to share that you're struggling with depression and anxiety. I'm here to listen and support you.\\n\\nCan you tell me more about what's been going on? What are the main sources of stress in your life right now?\", additional_kwargs={}, response_metadata={})],\n",
       " 'context': [Document(id='b3718fd5-287f-4d92-9a98-9bb94187757e', metadata={'emotion': 'Burnout', 'id': 'Burnout'}, page_content='Do you feel emotionally and physically exhausted at the end of each day?\\tHave you become more cynical or detached from your work?'),\n",
       "  Document(id='ce2db161-be80-4b20-b2f2-1ac417c775e5', metadata={'emotion': 'Stressed', 'id': 'Stressed'}, page_content='What are the main sources of stress in your life right now?\\tHow do you typically cope when feeling overwhelmed?'),\n",
       "  Document(id='71b3c888-8640-44e8-a8b2-d366529d1865', metadata={'emotion': 'Depressed', 'id': 'Depressed'}, page_content='Have you been feeling hopeless or helpless lately?\\tDo you find yourself losing interest in activities you used to enjoy?'),\n",
       "  Document(id='19ca073f-2191-4496-ae15-5941eb4cae31', metadata={'emotion': 'Sad', 'id': 'Sad'}, page_content='What events or situations have been making you feel down?\\tHave you noticed changes in your sleep or appetite patterns?')],\n",
       " 'answer': \"It sounds like you're feeling overwhelmed by your workload. That can be really tough and frustrating. Have you been able to talk to anyone about how you're feeling, like a manager or a colleague? Or have you been trying to cope with it on your own?\"}"
      ]
     },
     "execution_count": 39,
     "metadata": {},
     "output_type": "execute_result"
    }
   ],
   "source": [
    "response2 = conversational_rag_chain.invoke({\"input\":\"I have a lot work and I feel Overloaded\"},\n",
    "                                config = {\"configurable\":{\"session_id\":\"Manan\"}})\n",
    "response2"
   ]
  },
  {
   "cell_type": "code",
   "execution_count": 40,
   "metadata": {},
   "outputs": [
    {
     "data": {
      "text/plain": [
       "{'input': 'I am not able to sleep at night and I am not able to concentrate on my work',\n",
       " 'chat_history': [HumanMessage(content='Hey, I am Manan. I am a bit depressed and Anxious!', additional_kwargs={}, response_metadata={}),\n",
       "  AIMessage(content=\"Hi Manan, I'm so glad you're reaching out! It takes a lot of courage to share that you're struggling with depression and anxiety. I'm here to listen and support you.\\n\\nCan you tell me more about what's been going on? What are the main sources of stress in your life right now?\", additional_kwargs={}, response_metadata={}),\n",
       "  HumanMessage(content='I have a lot work and I feel Overloaded', additional_kwargs={}, response_metadata={}),\n",
       "  AIMessage(content=\"It sounds like you're feeling overwhelmed by your workload. That can be really tough and frustrating. Have you been able to talk to anyone about how you're feeling, like a manager or a colleague? Or have you been trying to cope with it on your own?\", additional_kwargs={}, response_metadata={})],\n",
       " 'context': [Document(id='b3718fd5-287f-4d92-9a98-9bb94187757e', metadata={'emotion': 'Burnout', 'id': 'Burnout'}, page_content='Do you feel emotionally and physically exhausted at the end of each day?\\tHave you become more cynical or detached from your work?'),\n",
       "  Document(id='ce2db161-be80-4b20-b2f2-1ac417c775e5', metadata={'emotion': 'Stressed', 'id': 'Stressed'}, page_content='What are the main sources of stress in your life right now?\\tHow do you typically cope when feeling overwhelmed?'),\n",
       "  Document(id='19ca073f-2191-4496-ae15-5941eb4cae31', metadata={'emotion': 'Sad', 'id': 'Sad'}, page_content='What events or situations have been making you feel down?\\tHave you noticed changes in your sleep or appetite patterns?'),\n",
       "  Document(id='69ea1559-9924-4a45-b89a-c0c947f105c4', metadata={'emotion': 'Anxious', 'id': 'Anxious'}, page_content='Do you often feel worried or on edge without a clear reason?\\tHave you experienced physical symptoms like rapid heartbeat or difficulty breathing?')],\n",
       " 'answer': 'It sounds like the stress and anxiety are affecting your daily life, including your sleep and ability to focus at work. That can be really debilitating. Have you noticed any specific events or situations that might have triggered this feeling of being overwhelmed?'}"
      ]
     },
     "execution_count": 40,
     "metadata": {},
     "output_type": "execute_result"
    }
   ],
   "source": [
    "response3 = conversational_rag_chain.invoke({\"input\":\"I am not able to sleep at night and I am not able to concentrate on my work\"},\n",
    "                                config = {\"configurable\":{\"session_id\":\"Manan\"}})\n",
    "response3"
   ]
  },
  {
   "cell_type": "code",
   "execution_count": 41,
   "metadata": {},
   "outputs": [
    {
     "data": {
      "text/plain": [
       "{'input': 'Okay I will try to talk to my friends and family and reduce my work load',\n",
       " 'chat_history': [HumanMessage(content='Hey, I am Manan. I am a bit depressed and Anxious!', additional_kwargs={}, response_metadata={}),\n",
       "  AIMessage(content=\"Hi Manan, I'm so glad you're reaching out! It takes a lot of courage to share that you're struggling with depression and anxiety. I'm here to listen and support you.\\n\\nCan you tell me more about what's been going on? What are the main sources of stress in your life right now?\", additional_kwargs={}, response_metadata={}),\n",
       "  HumanMessage(content='I have a lot work and I feel Overloaded', additional_kwargs={}, response_metadata={}),\n",
       "  AIMessage(content=\"It sounds like you're feeling overwhelmed by your workload. That can be really tough and frustrating. Have you been able to talk to anyone about how you're feeling, like a manager or a colleague? Or have you been trying to cope with it on your own?\", additional_kwargs={}, response_metadata={}),\n",
       "  HumanMessage(content='I am not able to sleep at night and I am not able to concentrate on my work', additional_kwargs={}, response_metadata={}),\n",
       "  AIMessage(content='It sounds like the stress and anxiety are affecting your daily life, including your sleep and ability to focus at work. That can be really debilitating. Have you noticed any specific events or situations that might have triggered this feeling of being overwhelmed?', additional_kwargs={}, response_metadata={})],\n",
       " 'context': [Document(id='ce2db161-be80-4b20-b2f2-1ac417c775e5', metadata={'emotion': 'Stressed', 'id': 'Stressed'}, page_content='What are the main sources of stress in your life right now?\\tHow do you typically cope when feeling overwhelmed?'),\n",
       "  Document(id='b3718fd5-287f-4d92-9a98-9bb94187757e', metadata={'emotion': 'Burnout', 'id': 'Burnout'}, page_content='Do you feel emotionally and physically exhausted at the end of each day?\\tHave you become more cynical or detached from your work?'),\n",
       "  Document(id='71b3c888-8640-44e8-a8b2-d366529d1865', metadata={'emotion': 'Depressed', 'id': 'Depressed'}, page_content='Have you been feeling hopeless or helpless lately?\\tDo you find yourself losing interest in activities you used to enjoy?'),\n",
       "  Document(id='19ca073f-2191-4496-ae15-5941eb4cae31', metadata={'emotion': 'Sad', 'id': 'Sad'}, page_content='What events or situations have been making you feel down?\\tHave you noticed changes in your sleep or appetite patterns?')],\n",
       " 'answer': \"That's a great plan, Manan! Talking to loved ones can be a great way to get support, and reducing your workload can help alleviate some of that stress. Remember that it's okay to ask for help and prioritize your well-being.\\n\\nBefore we wrap up, I want to leave you with a sweet note: You are not alone in this, and you are strong enough to get through this tough time. Remember to be kind to yourself and take things one step at a time.\\n\\nIf you ever need to talk or need any more advice, I'm here for you. Take care of yourself, Manan!\"}"
      ]
     },
     "execution_count": 41,
     "metadata": {},
     "output_type": "execute_result"
    }
   ],
   "source": [
    "response4 = conversational_rag_chain.invoke({\"input\":\"Okay I will try to talk to my friends and family and reduce my work load\"},\n",
    "                                config = {\"configurable\":{\"session_id\":\"Manan\"}})\n",
    "response4"
   ]
  },
  {
   "cell_type": "code",
   "execution_count": null,
   "metadata": {},
   "outputs": [],
   "source": []
  }
 ],
 "metadata": {
  "kernelspec": {
   "display_name": "Python 3",
   "language": "python",
   "name": "python3"
  },
  "language_info": {
   "codemirror_mode": {
    "name": "ipython",
    "version": 3
   },
   "file_extension": ".py",
   "mimetype": "text/x-python",
   "name": "python",
   "nbconvert_exporter": "python",
   "pygments_lexer": "ipython3",
   "version": "3.10.0"
  }
 },
 "nbformat": 4,
 "nbformat_minor": 2
}
